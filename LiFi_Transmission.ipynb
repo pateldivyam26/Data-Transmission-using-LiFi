{
 "cells": [
  {
   "attachments": {},
   "cell_type": "markdown",
   "metadata": {},
   "source": [
    "## EEP3010 : COMMUNICATION SYSTEMS LAB"
   ]
  },
  {
   "attachments": {},
   "cell_type": "markdown",
   "metadata": {},
   "source": [
    "### DATA TRANSMISSION USING LiFi"
   ]
  },
  {
   "attachments": {},
   "cell_type": "markdown",
   "metadata": {},
   "source": [
    "### Sending Real Time Data To Arduino IDE"
   ]
  },
  {
   "cell_type": "code",
   "execution_count": 5,
   "metadata": {},
   "outputs": [],
   "source": [
    "import serial"
   ]
  },
  {
   "cell_type": "code",
   "execution_count": null,
   "metadata": {},
   "outputs": [],
   "source": [
    "ser = serial.Serial('COM8', 9600)"
   ]
  },
  {
   "cell_type": "code",
   "execution_count": null,
   "metadata": {},
   "outputs": [],
   "source": [
    "ser.write(b'This text was transmitted using LiFi')"
   ]
  },
  {
   "attachments": {},
   "cell_type": "markdown",
   "metadata": {},
   "source": [
    "### Converting Image To Text File"
   ]
  },
  {
   "cell_type": "code",
   "execution_count": 7,
   "metadata": {},
   "outputs": [],
   "source": [
    "from PIL import Image\n",
    "\n",
    "# Open the image file\n",
    "image = Image.open(\"image.png\")\n",
    "\n",
    "# Convert the image to grayscale\n",
    "gray_image = image.convert('L')\n",
    "\n",
    "# Resize the image to reduce the size\n",
    "resized_image = gray_image.resize((32, 32))\n",
    "\n",
    "# Get the pixels of the resized grayscale image\n",
    "pixels = resized_image.load()\n",
    "\n",
    "# Create a string to hold the binary data\n",
    "binary_data = \"\"\n",
    "\n",
    "# Iterate through the pixels and append 0 or 1 depending on the pixel value\n",
    "for i in range(resized_image.size[0]):\n",
    "    for j in range(resized_image.size[1]):\n",
    "        if pixels[i, j] < 128:\n",
    "            binary_data += \"0\"\n",
    "        else:\n",
    "            binary_data += \"1\"\n",
    "\n",
    "# Save the binary data to a text file\n",
    "with open('image_binary_new.txt', 'w') as file:\n",
    "    file.write(binary_data)"
   ]
  },
  {
   "attachments": {},
   "cell_type": "markdown",
   "metadata": {},
   "source": [
    "### Converting Recovered Data Back To Image"
   ]
  },
  {
   "cell_type": "code",
   "execution_count": 8,
   "metadata": {},
   "outputs": [],
   "source": [
    "from PIL import Image\n",
    "\n",
    "# Open the binary data text file and read the contents\n",
    "with open('image_binary_new.txt', 'r') as file:\n",
    "    binary_data = file.read()\n",
    "\n",
    "# Calculate the image dimensions based on the binary data length\n",
    "image_size = int(len(binary_data) ** 0.5)\n",
    "    \n",
    "# Create a new PIL Image object with the calculated dimensions\n",
    "image = Image.new('L', (image_size, image_size))\n",
    "\n",
    "# Load the pixel data of the image\n",
    "pixels = image.load()\n",
    "\n",
    "# Iterate through the binary data and set the pixel value based on the binary value\n",
    "for i in range(image_size):\n",
    "    for j in range(image_size):\n",
    "        pixel_value = 255 if binary_data[i * image_size + j] == \"1\" else 0\n",
    "        pixels[i, j] = pixel_value\n",
    "\n",
    "# Save the reconstructed image\n",
    "image.save('reconstructed_image_new.png')"
   ]
  }
 ],
 "metadata": {
  "kernelspec": {
   "display_name": "base",
   "language": "python",
   "name": "python3"
  },
  "language_info": {
   "codemirror_mode": {
    "name": "ipython",
    "version": 3
   },
   "file_extension": ".py",
   "mimetype": "text/x-python",
   "name": "python",
   "nbconvert_exporter": "python",
   "pygments_lexer": "ipython3",
   "version": "3.9.7"
  },
  "orig_nbformat": 4
 },
 "nbformat": 4,
 "nbformat_minor": 2
}
